{
  "cells": [
    {
      "cell_type": "code",
      "execution_count": 1,
      "metadata": {
        "id": "qG834leGeZdG"
      },
      "outputs": [],
      "source": [
        "import google.generativeai as genai"
      ]
    },
    {
      "cell_type": "code",
      "execution_count": 2,
      "metadata": {
        "id": "AcQI1HbKi7p8"
      },
      "outputs": [],
      "source": [
        "genai.configure(api_key=\"API_Key\")"
      ]
    },
    {
      "cell_type": "code",
      "execution_count": 3,
      "metadata": {
        "colab": {
          "base_uri": "https://localhost:8080/",
          "height": 225
        },
        "id": "hpVX3q81jJ5L",
        "outputId": "3b73c03c-3e96-4317-8148-e84705b8aa14"
      },
      "outputs": [
        {
          "name": "stdout",
          "output_type": "stream",
          "text": [
            "models/gemini-1.0-pro\n",
            "models/gemini-1.0-pro-001\n",
            "models/gemini-1.0-pro-latest\n",
            "models/gemini-1.0-pro-vision-latest\n",
            "models/gemini-1.5-flash\n",
            "models/gemini-1.5-flash-001\n",
            "models/gemini-1.5-flash-latest\n",
            "models/gemini-1.5-pro\n",
            "models/gemini-1.5-pro-001\n",
            "models/gemini-1.5-pro-latest\n",
            "models/gemini-pro\n",
            "models/gemini-pro-vision\n"
          ]
        }
      ],
      "source": [
        "for m in genai.list_models():\n",
        "  if 'generateContent' in m.supported_generation_methods:\n",
        "    print(m.name)"
      ]
    },
    {
      "cell_type": "code",
      "execution_count": 4,
      "metadata": {
        "id": "T7wmAAKSjQ5D"
      },
      "outputs": [],
      "source": [
        "MODEL_CONFIG = {\n",
        "  \"temperature\": 0.2,\n",
        "  \"top_p\": 1,\n",
        "  \"top_k\": 32,\n",
        "  \"max_output_tokens\": 4096,\n",
        "}\n",
        "\n",
        "safety_settings = [\n",
        "  {\n",
        "    \"category\": \"HARM_CATEGORY_HARASSMENT\",\n",
        "    \"threshold\": \"BLOCK_MEDIUM_AND_ABOVE\"\n",
        "  },\n",
        "  {\n",
        "    \"category\": \"HARM_CATEGORY_HATE_SPEECH\",\n",
        "    \"threshold\": \"BLOCK_MEDIUM_AND_ABOVE\"\n",
        "  },\n",
        "  {\n",
        "    \"category\": \"HARM_CATEGORY_SEXUALLY_EXPLICIT\",\n",
        "    \"threshold\": \"BLOCK_MEDIUM_AND_ABOVE\"\n",
        "  },\n",
        "  {\n",
        "    \"category\": \"HARM_CATEGORY_DANGEROUS_CONTENT\",\n",
        "    \"threshold\": \"BLOCK_MEDIUM_AND_ABOVE\"\n",
        "  }\n",
        "]"
      ]
    },
    {
      "cell_type": "code",
      "execution_count": 5,
      "metadata": {
        "id": "wEHFTFGTjdju"
      },
      "outputs": [],
      "source": [
        "model = genai.GenerativeModel(model_name = \"gemini-pro-vision\",\n",
        "                              generation_config = MODEL_CONFIG,\n",
        "                              safety_settings = safety_settings)"
      ]
    },
    {
      "cell_type": "code",
      "execution_count": 6,
      "metadata": {
        "id": "AHFRGo2NjoA6"
      },
      "outputs": [],
      "source": [
        "from pathlib import Path\n",
        "\n",
        "def image_format(image_path):\n",
        "    img = Path(image_path)\n",
        "\n",
        "    if not img.exists():\n",
        "        raise FileNotFoundError(f\"Could not find image: {img}\")\n",
        "\n",
        "    image_parts = [\n",
        "        {\n",
        "            \"mime_type\": \"image/png\",\n",
        "            \"data\": img.read_bytes()\n",
        "        }\n",
        "    ]\n",
        "    return image_parts"
      ]
    },
    {
      "cell_type": "code",
      "execution_count": 7,
      "metadata": {
        "id": "VZipBBhjjsMu"
      },
      "outputs": [],
      "source": [
        "def gemini_output(image_path, system_prompt, user_prompt):\n",
        "\n",
        "    image_info = image_format(image_path)\n",
        "    input_prompt= [system_prompt, image_info[0], user_prompt]\n",
        "    response = model.generate_content(input_prompt)\n",
        "    return response.text"
      ]
    },
    {
      "cell_type": "code",
      "execution_count": 8,
      "metadata": {
        "colab": {
          "base_uri": "https://localhost:8080/",
          "height": 35
        },
        "id": "4cUWdFNJj2lK",
        "outputId": "75ce3157-a2e2-4869-e667-64fb60433faf"
      },
      "outputs": [
        {
          "data": {
            "text/plain": [
              "' The balance amount is 600.'"
            ]
          },
          "execution_count": 8,
          "metadata": {},
          "output_type": "execute_result"
        }
      ],
      "source": [
        "\n",
        "system_prompt = \"\"\"\n",
        "               You are a specialist in comprehending receipts.\n",
        "               Input images in the form of receipts will be provided to you,\n",
        "               and your task is to respond to questions based on the content of the input image.\n",
        "               \"\"\"\n",
        "\n",
        "image_path = \"Food_Bills_With_Texts/0003.jpg\"\n",
        "\n",
        "user_prompt = \"What is the balance amount in the image?\"\n",
        "\n",
        "gemini_output(image_path, system_prompt, user_prompt)"
      ]
    },
    {
      "cell_type": "code",
      "execution_count": 26,
      "metadata": {
        "id": "zWu6NuGTl-A-"
      },
      "outputs": [],
      "source": [
        "system_prompt = \"\"\"\n",
        "               You are a specialist in comprehending receipts.\n",
        "               Input images in the form of receipts will be provided to you,\n",
        "               and your task is to respond to questions based on the content of the input image.\n",
        "               \"\"\"\n",
        "image_path = \"Conveyance_Invoices/uber_invoice2.jpg\"\n",
        "user_prompt = \"\"\"\n",
        "Convert Invoice data into json format with appropriate json tags as required for the data in image,Extract all this information if and only if they exist other wise write NAN\n",
        "1. Company Name\n",
        "2. Invoice date\n",
        "3. Invoice number\n",
        "4. Total Amount\n",
        "5. Hotel state\n",
        "6. Hotel city\n",
        "7. Hotel pin\n",
        "8. Guest name\n",
        "9. Guest's company name\n",
        "10. GST Number of the guest's company\n",
        "11. Checkin date\n",
        "12. Checkout date\n",
        "13. Total days stayed\n",
        "14. Hotel service line items\n",
        "\"\"\"\n"
      ]
    },
    {
      "cell_type": "code",
      "execution_count": 27,
      "metadata": {
        "id": "SqIqp2MCmTrY"
      },
      "outputs": [],
      "source": [
        "output = gemini_output(image_path, system_prompt, user_prompt)"
      ]
    },
    {
      "cell_type": "code",
      "execution_count": 28,
      "metadata": {
        "colab": {
          "base_uri": "https://localhost:8080/",
          "height": 573
        },
        "id": "gx2WoYSzmc6a",
        "outputId": "0e89efc7-d233-4576-80f4-ffbc71eb0e18"
      },
      "outputs": [
        {
          "data": {
            "text/markdown": [
              " ```json\n",
              "{\n",
              "  \"Company Name\": \"Uber\",\n",
              "  \"Invoice date\": \"11 May 2023\",\n",
              "  \"Invoice number\": \"HR2305085031000199\",\n",
              "  \"Mode of travel\": \"Cab\",\n",
              "  \"Travel ticket class\": \"UberX\",\n",
              "  \"From location\": \"27A, near Girish Park, Manicktala, Azad Hind Bag, Kolkata, West Bengal 700006, India\",\n",
              "  \"To location\": \"NaN\",\n",
              "  \"Departure date\": \"11 May 2023\",\n",
              "  \"Departure time\": \"09:39:21\",\n",
              "  \"Arrival date\": \"11 May 2023\",\n",
              "  \"Arrival time\": \"09:39:21\",\n",
              "  \"Number of Kilometer (traveled)\": \"NaN\",\n",
              "  \"Inter-city or intra-city travel\": \"Intra-city\",\n",
              "  \"Total Amount\": \"105.99\"\n",
              "}\n",
              "```"
            ],
            "text/plain": [
              "<IPython.core.display.Markdown object>"
            ]
          },
          "execution_count": 28,
          "metadata": {},
          "output_type": "execute_result"
        }
      ],
      "source": [
        "from IPython.display import Markdown\n",
        "Markdown(output)"
      ]
    }
  ],
  "metadata": {
    "colab": {
      "provenance": []
    },
    "kernelspec": {
      "display_name": "Python 3",
      "name": "python3"
    },
    "language_info": {
      "codemirror_mode": {
        "name": "ipython",
        "version": 3
      },
      "file_extension": ".py",
      "mimetype": "text/x-python",
      "name": "python",
      "nbconvert_exporter": "python",
      "pygments_lexer": "ipython3",
      "version": "3.10.12"
    }
  },
  "nbformat": 4,
  "nbformat_minor": 0
}
